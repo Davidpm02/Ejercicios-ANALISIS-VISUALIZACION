{
  "nbformat": 4,
  "nbformat_minor": 0,
  "metadata": {
    "colab": {
      "provenance": []
    },
    "kernelspec": {
      "name": "python3",
      "display_name": "Python 3"
    },
    "language_info": {
      "name": "python"
    }
  },
  "cells": [
    {
      "cell_type": "markdown",
      "source": [
        "## PASO 1. Comprender el problema \n",
        "\n",
        "El objetivo en este cuaderno es realizar un análisis y visualización de los datos de nuestro conjunto de datos.\n",
        "\n",
        "Para ello, tenemos un conjunto de datos que contiene ejemplos para una serie de apartamentos, registrando la información necesaria para cada columna."
      ],
      "metadata": {
        "id": "teC6HZGuaNFV"
      }
    },
    {
      "cell_type": "markdown",
      "source": [
        "## PASO 2. Importar librerías y archivos"
      ],
      "metadata": {
        "id": "KoMs83n1bGl0"
      }
    },
    {
      "cell_type": "code",
      "source": [
        "import pandas as pd\n",
        "import numpy as np\n",
        "import matplotlib.pyplot as plt\n",
        "import seaborn as sns"
      ],
      "metadata": {
        "id": "Wjre_qleasZ8"
      },
      "execution_count": 1,
      "outputs": []
    },
    {
      "cell_type": "code",
      "source": [
        "dataset = pd.read_csv('real_estate.csv')"
      ],
      "metadata": {
        "id": "YhksDZ93bktX"
      },
      "execution_count": 2,
      "outputs": []
    },
    {
      "cell_type": "markdown",
      "source": [
        "## PASO 3. Comenzar análisis de los datos"
      ],
      "metadata": {
        "id": "DScPqsSgb5Lw"
      }
    },
    {
      "cell_type": "code",
      "source": [],
      "metadata": {
        "id": "xbQwKg3TbqzO"
      },
      "execution_count": null,
      "outputs": []
    }
  ]
}